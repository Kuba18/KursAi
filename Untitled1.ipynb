{
  "nbformat": 4,
  "nbformat_minor": 0,
  "metadata": {
    "colab": {
      "provenance": [],
      "authorship_tag": "ABX9TyPsGvtvZYIcA2AEq+8I/4fT",
      "include_colab_link": true
    },
    "kernelspec": {
      "name": "python3",
      "display_name": "Python 3"
    },
    "language_info": {
      "name": "python"
    }
  },
  "cells": [
    {
      "cell_type": "markdown",
      "metadata": {
        "id": "view-in-github",
        "colab_type": "text"
      },
      "source": [
        "<a href=\"https://colab.research.google.com/github/Kuba18/KursAi/blob/main/Untitled1.ipynb\" target=\"_parent\"><img src=\"https://colab.research.google.com/assets/colab-badge.svg\" alt=\"Open In Colab\"/></a>"
      ]
    },
    {
      "cell_type": "code",
      "execution_count": null,
      "metadata": {
        "id": "Uu71ebfx_S9C"
      },
      "outputs": [],
      "source": [
        "import numpy as np\n"
      ]
    },
    {
      "cell_type": "code",
      "source": [
        "player_data = np.array([\n",
        "    (\"Faker\", \"T1\", 5),\n",
        "    (\"TheSky\", \"Weibo Gaming\", 1),\n",
        "    (\"Uzi\", \"Emerytowany\", 0)\n",
        "], dtype = [(\"Nick\", \"U30\"), (\"Team\", \"U30\"), (\"Worlds Title count\", \"i4\")])\n",
        "\n",
        "print(player_data)\n",
        "print(np.sort(player_data, order= \"Team\"))"
      ],
      "metadata": {
        "colab": {
          "base_uri": "https://localhost:8080/"
        },
        "id": "0P9PyB7wB79k",
        "outputId": "275a0de5-4d60-436e-d0b9-cc1c460d6995"
      },
      "execution_count": null,
      "outputs": [
        {
          "output_type": "stream",
          "name": "stdout",
          "text": [
            "[('Faker', 'T1', 5) ('TheSky', 'Weibo Gaming', 1)\n",
            " ('Uzi', 'Emerytowany', 0)]\n",
            "[('Uzi', 'Emerytowany', 0) ('Faker', 'T1', 5)\n",
            " ('TheSky', 'Weibo Gaming', 1)]\n"
          ]
        }
      ]
    },
    {
      "cell_type": "code",
      "source": [
        "from numpy import random\n",
        "for i in range(10):\n",
        "  print(random.randint(1,11))\n"
      ],
      "metadata": {
        "colab": {
          "base_uri": "https://localhost:8080/"
        },
        "id": "hTpel0stCZn1",
        "outputId": "5ce30827-e240-4d9f-959a-fd781177b808"
      },
      "execution_count": null,
      "outputs": [
        {
          "output_type": "stream",
          "name": "stdout",
          "text": [
            "5\n",
            "5\n",
            "4\n",
            "3\n",
            "9\n",
            "9\n",
            "10\n",
            "1\n",
            "3\n",
            "9\n"
          ]
        }
      ]
    },
    {
      "cell_type": "code",
      "source": [
        "for i in range(10):\n",
        "  print(random.rand())"
      ],
      "metadata": {
        "colab": {
          "base_uri": "https://localhost:8080/"
        },
        "id": "sNU3fnu7C4dX",
        "outputId": "297ff577-8318-4433-c82c-1099c773142a"
      },
      "execution_count": null,
      "outputs": [
        {
          "output_type": "stream",
          "name": "stdout",
          "text": [
            "0.19070159971383815\n",
            "0.018053441546448834\n",
            "0.36508188648288087\n",
            "0.02606724074799127\n",
            "0.26553037991181483\n",
            "0.897167239488231\n",
            "0.5322028813815849\n",
            "0.8288374068684088\n",
            "0.7429659997720887\n",
            "0.6241368694115692\n"
          ]
        }
      ]
    },
    {
      "cell_type": "code",
      "source": [
        "lista = [1,2,3,4,5]\n",
        "pomieszana = random.shuffle(lista)\n",
        "print(pomieszana)"
      ],
      "metadata": {
        "colab": {
          "base_uri": "https://localhost:8080/"
        },
        "id": "Qy6ck5XODo_4",
        "outputId": "70f8f94f-79de-4d41-ebf1-e0df095e33d3"
      },
      "execution_count": null,
      "outputs": [
        {
          "output_type": "stream",
          "name": "stdout",
          "text": [
            "None\n"
          ]
        }
      ]
    },
    {
      "cell_type": "code",
      "source": [
        "array1D =  np.array([1,2,3,4,5,6,7,8,9])\n",
        "print(array1D[:9])"
      ],
      "metadata": {
        "colab": {
          "base_uri": "https://localhost:8080/"
        },
        "id": "l8TOIdrZEyUc",
        "outputId": "2f21d6b7-d733-4cf9-aa2c-00f74fb88f98"
      },
      "execution_count": null,
      "outputs": [
        {
          "output_type": "stream",
          "name": "stdout",
          "text": [
            "[1 2 3 4 5 6 7 8 9]\n"
          ]
        }
      ]
    },
    {
      "cell_type": "code",
      "source": [
        "array2D = np.array([\n",
        "    [1,2,3,4,5],\n",
        "    [6,7,8,9,10],\n",
        "    [11,12,13,14,15]\n",
        "])\n",
        "print(array2D[:,2:4])"
      ],
      "metadata": {
        "colab": {
          "base_uri": "https://localhost:8080/"
        },
        "id": "JUR2YXgKFSVt",
        "outputId": "fe65a383-a7ad-4fb7-c48f-e286da479151"
      },
      "execution_count": null,
      "outputs": [
        {
          "output_type": "stream",
          "name": "stdout",
          "text": [
            "[[ 3  4]\n",
            " [ 8  9]\n",
            " [13 14]]\n"
          ]
        }
      ]
    },
    {
      "cell_type": "code",
      "source": [
        "for i in np.nditer(array2D):\n",
        "  print(i)"
      ],
      "metadata": {
        "colab": {
          "base_uri": "https://localhost:8080/"
        },
        "id": "OSpQhd0xGSGh",
        "outputId": "56d096fe-5c86-41d4-d3e8-c105291fb20d"
      },
      "execution_count": null,
      "outputs": [
        {
          "output_type": "stream",
          "name": "stdout",
          "text": [
            "1\n",
            "2\n",
            "3\n",
            "4\n",
            "5\n",
            "6\n",
            "7\n",
            "8\n",
            "9\n",
            "10\n",
            "11\n",
            "12\n",
            "13\n",
            "14\n",
            "15\n"
          ]
        }
      ]
    },
    {
      "cell_type": "code",
      "source": [
        "array2D = np.array([\n",
        "    [1,2,3,4,5,6],\n",
        "    [6,6,7,8,9,10],\n",
        "    [11,12,13,14,15,6]\n",
        "])\n",
        "result = np.where(array2D == 6,True , False)\n",
        "print(result)\n",
        "\n",
        "filtred = array2D[result]\n",
        "print(filtred)"
      ],
      "metadata": {
        "colab": {
          "base_uri": "https://localhost:8080/"
        },
        "id": "nA6482m6G2u2",
        "outputId": "235b716b-d0b6-4fe5-e587-ef4589117d4b"
      },
      "execution_count": null,
      "outputs": [
        {
          "output_type": "stream",
          "name": "stdout",
          "text": [
            "[[False False False False False  True]\n",
            " [ True  True False False False False]\n",
            " [False False False False False  True]]\n",
            "[6 6 6 6]\n"
          ]
        }
      ]
    }
  ]
}