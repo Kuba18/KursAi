{
  "nbformat": 4,
  "nbformat_minor": 0,
  "metadata": {
    "colab": {
      "provenance": [],
      "authorship_tag": "ABX9TyP+Xd4q7A7ibJQSIQN+Tswx",
      "include_colab_link": true
    },
    "kernelspec": {
      "name": "python3",
      "display_name": "Python 3"
    },
    "language_info": {
      "name": "python"
    }
  },
  "cells": [
    {
      "cell_type": "markdown",
      "metadata": {
        "id": "view-in-github",
        "colab_type": "text"
      },
      "source": [
        "<a href=\"https://colab.research.google.com/github/Kuba18/KursAi/blob/main/KursAi.ipynb\" target=\"_parent\"><img src=\"https://colab.research.google.com/assets/colab-badge.svg\" alt=\"Open In Colab\"/></a>"
      ]
    },
    {
      "cell_type": "markdown",
      "source": [
        "## **Podstawowe elementy języka python.**\n",
        "\n",
        "*W tym rozdziale przedstawimy podstawowe*\n",
        "\n",
        "https://www.python.org/\n",
        "\n",
        "### **Omawiane elementy:**\n",
        "\n",
        "1.   Zmienne\n",
        "2.   Listy\n",
        "3.   Pętle\n",
        "4.   Słowniki\n",
        "5.   krotki\n",
        "6.   Instrukcje warunkowe\n",
        "7.   Funkcje\n",
        "8.   Obsługa plików\n",
        "9.   Obsługa wyjątków\n",
        "\n",
        "\n",
        "\n",
        "\n",
        "\n",
        "\n"
      ],
      "metadata": {
        "id": "WrD94pnq8bWB"
      }
    },
    {
      "cell_type": "markdown",
      "source": [
        "Konfiguracja Gita"
      ],
      "metadata": {
        "id": "1hoUtR9WBFqG"
      }
    },
    {
      "cell_type": "code",
      "source": [
        "!git status"
      ],
      "metadata": {
        "colab": {
          "base_uri": "https://localhost:8080/"
        },
        "id": "ze0WbP90CfKC",
        "outputId": "1e74b6e4-d86c-4a1f-f7d8-7738cfe7e777"
      },
      "execution_count": 2,
      "outputs": [
        {
          "output_type": "stream",
          "name": "stdout",
          "text": [
            "fatal: not a git repository (or any of the parent directories): .git\n"
          ]
        }
      ]
    },
    {
      "cell_type": "code",
      "execution_count": 3,
      "metadata": {
        "colab": {
          "base_uri": "https://localhost:8080/"
        },
        "id": "ny35QnWhHyEL",
        "outputId": "38527139-7042-4258-bf91-8d5f4814b7bc"
      },
      "outputs": [
        {
          "output_type": "stream",
          "name": "stdout",
          "text": [
            "\u001b[33mhint: Using 'master' as the name for the initial branch. This default branch name\u001b[m\n",
            "\u001b[33mhint: is subject to change. To configure the initial branch name to use in all\u001b[m\n",
            "\u001b[33mhint: of your new repositories, which will suppress this warning, call:\u001b[m\n",
            "\u001b[33mhint: \u001b[m\n",
            "\u001b[33mhint: \tgit config --global init.defaultBranch <name>\u001b[m\n",
            "\u001b[33mhint: \u001b[m\n",
            "\u001b[33mhint: Names commonly chosen instead of 'master' are 'main', 'trunk' and\u001b[m\n",
            "\u001b[33mhint: 'development'. The just-created branch can be renamed via this command:\u001b[m\n",
            "\u001b[33mhint: \u001b[m\n",
            "\u001b[33mhint: \tgit branch -m <name>\u001b[m\n",
            "Initialized empty Git repository in /content/.git/\n"
          ]
        }
      ],
      "source": [
        "\n",
        "!git init\n",
        "!git config --global user.name \"KursAI\"\n",
        "!git config --global user.email \"Kurs@ai.com\"\n",
        "\n"
      ]
    },
    {
      "cell_type": "code",
      "source": [
        "!git status"
      ],
      "metadata": {
        "colab": {
          "base_uri": "https://localhost:8080/"
        },
        "id": "TvAnm9Q7Cqss",
        "outputId": "ba4ae6cd-1269-402e-b257-0f590d14edf6"
      },
      "execution_count": 11,
      "outputs": [
        {
          "output_type": "stream",
          "name": "stdout",
          "text": [
            "On branch master\n",
            "nothing to commit, working tree clean\n"
          ]
        }
      ]
    },
    {
      "cell_type": "code",
      "source": [
        "!git log"
      ],
      "metadata": {
        "colab": {
          "base_uri": "https://localhost:8080/"
        },
        "id": "8RM3_RhOC3Eq",
        "outputId": "73268b01-a53e-4743-877a-ebf871a8be80"
      },
      "execution_count": 13,
      "outputs": [
        {
          "output_type": "stream",
          "name": "stdout",
          "text": [
            "\u001b[33mcommit 25b47493fbf2ee010b8e6e9a93108b364cabe5cb\u001b[m\u001b[33m (\u001b[m\u001b[1;36mHEAD -> \u001b[m\u001b[1;32mmain\u001b[m\u001b[33m)\u001b[m\n",
            "Author: KursAI <Kurs@ai.com>\n",
            "Date:   Sat Feb 22 09:44:33 2025 +0000\n",
            "\n",
            "    test\n"
          ]
        }
      ]
    },
    {
      "cell_type": "code",
      "source": [
        "!vim sample_data/README.md"
      ],
      "metadata": {
        "colab": {
          "base_uri": "https://localhost:8080/"
        },
        "id": "ExFMYCCvDR8T",
        "outputId": "8cbc3f6b-97bd-4668-996b-a5fda449a8dc"
      },
      "execution_count": 10,
      "outputs": [
        {
          "output_type": "stream",
          "name": "stdout",
          "text": [
            "\u001b7\u001b[?47h\u001b[>4;2m\u001b[?1h\u001b=\u001b[?2004h\u001b[?1004h\u001b[1;24r\u001b[?12h\u001b[?12l\u001b[22;2t\u001b[22;1t\u001b[29m\u001b[m\u001b[H\u001b[2J\u001b[?25l\u001b[24;1H\"sample_data/README.md\" 19L, 962B\u001b[2;1H▽\u001b[6n\u001b[2;1H  \u001b[3;1H\u001bPzz\u001b\\\u001b[0%m\u001b[6n\u001b[3;1H           \u001b[1;1H\u001b[>c\u001b]10;?\u0007\u001b]11;?\u0007\u001b[1;1HThis directory includes a few sample datasets to get you started.\u001b[2;1H\u001b[K\u001b[3;1H\u001b[33m*\u001b[m   \u001b[35m`\u001b[mcalifornia_housing_data*.csv\u001b[35m`\u001b[m is California housing data from the 1990 US\u001b[3;79H\u001b[K\u001b[4;5HCensus; more information is available at:\r\n",
            "    https://docs.google.com/document/d/e/2PACX-1vRhYtsvc5eOR2FWNCwaBiKL6suIOrxJig8LcSBbmCbyYsayia_Dvv\u001b[6;1HPOOBlXZ4CAlQ5nlDD8kTaIDRwrN/pub\r\n",
            "\r\n",
            "\u001b[33m*\u001b[m   \u001b[35m`\u001b[mmnist_*.csv\u001b[35m`\u001b[m is a small sample of the\r\n",
            "    [MNIST database](https://en.wikipedia.org/wiki/MNIST_database), which is\r\n",
            "    described at: http://yann.lecun.com/exdb/mnist/\r\n",
            "\r\n",
            "\u001b[33m*\u001b[m   \u001b[35m`\u001b[manscombe.json\u001b[35m`\u001b[m contains a copy of\r\n",
            "    [Anscombe's quartet](https://en.wikipedia.org/wiki/Anscombe%27s_quartet); it\r\n",
            "    was originally described in\u001b[16;5HAnscombe, F. J. (1973). 'Graphs in Statistical Analysis'. American\r\n",
            "    Statistician. 27 (1): 17-21. JSTOR 2682899.\u001b[19;5Hand our copy was prepared by the\r\n",
            "    [vega_datasets library](https://github.com/altair-viz/vega_datasets/blob/4f67bdaad10f45e3549984ee\u001b[21;1H17e1b3088c731503d/vega_datasets/_data/anscombe.json).\n",
            "\u001b[1m\u001b[34m~                                                                                                   \u001b[23;1H~                                                                                                   \u001b[m\u001b[24;83H1,1\u001b[11CAll\u001b[1;1H\u001b[?25h\u001b[24;1H\u001b[?1004l\u001b[?2004l\u001b[?1l\u001b>\u001b[>4;m\u001b[2J\u001b[?47l\u001b8Vim: Caught deadly signal TERM\n",
            "Vim: Finished.\n",
            "\u001b[24;1H\u001b[23;2t\u001b[23;1t\n",
            "^C\n"
          ]
        }
      ]
    },
    {
      "cell_type": "code",
      "source": [
        "!git add ."
      ],
      "metadata": {
        "id": "zSIn6XVLJQUK"
      },
      "execution_count": 5,
      "outputs": []
    },
    {
      "cell_type": "code",
      "source": [
        "!git commit -m \"test\""
      ],
      "metadata": {
        "colab": {
          "base_uri": "https://localhost:8080/"
        },
        "id": "KW7_5urzJS8l",
        "outputId": "a118d6d2-865a-43ed-eee9-c31fb06cc43f"
      },
      "execution_count": 7,
      "outputs": [
        {
          "output_type": "stream",
          "name": "stdout",
          "text": [
            "[master (root-commit) 25b4749] test\n",
            " 21 files changed, 51023 insertions(+)\n",
            " create mode 100644 .config/.last_opt_in_prompt.yaml\n",
            " create mode 100644 .config/.last_survey_prompt.yaml\n",
            " create mode 100644 .config/.last_update_check.json\n",
            " create mode 100644 .config/active_config\n",
            " create mode 100644 .config/config_sentinel\n",
            " create mode 100644 .config/configurations/config_default\n",
            " create mode 100644 .config/default_configs.db\n",
            " create mode 100644 .config/gce\n",
            " create mode 100644 .config/hidden_gcloud_config_universe_descriptor_data_cache_configs.db\n",
            " create mode 100644 .config/logs/2025.02.20/14.23.09.448625.log\n",
            " create mode 100644 .config/logs/2025.02.20/14.23.42.557542.log\n",
            " create mode 100644 .config/logs/2025.02.20/14.23.54.466137.log\n",
            " create mode 100644 .config/logs/2025.02.20/14.23.58.333263.log\n",
            " create mode 100644 .config/logs/2025.02.20/14.24.10.539232.log\n",
            " create mode 100644 .config/logs/2025.02.20/14.24.11.360033.log\n",
            " create mode 100755 sample_data/README.md\n",
            " create mode 100755 sample_data/anscombe.json\n",
            " create mode 100644 sample_data/california_housing_test.csv\n",
            " create mode 100644 sample_data/california_housing_train.csv\n",
            " create mode 100644 sample_data/mnist_test.csv\n",
            " create mode 100644 sample_data/mnist_train_small.csv\n"
          ]
        }
      ]
    },
    {
      "cell_type": "code",
      "source": [
        "#!git remote add origin https://ghp_lCPTsswRekNqiotsWEmS7Y<Usunac_razem_z_<>.>seNevecx20VBXg@github.com/Kuba18/KursAi.git"
      ],
      "metadata": {
        "id": "jlBRm8G1MYSE"
      },
      "execution_count": null,
      "outputs": []
    },
    {
      "cell_type": "code",
      "source": [
        "!git branch -M main"
      ],
      "metadata": {
        "id": "QwMVDNGuJp-N"
      },
      "execution_count": 12,
      "outputs": []
    },
    {
      "cell_type": "code",
      "source": [
        "!git remote remove origin"
      ],
      "metadata": {
        "id": "mb69LFIvOb2d"
      },
      "execution_count": null,
      "outputs": []
    },
    {
      "cell_type": "code",
      "source": [
        "!git push -u origin main"
      ],
      "metadata": {
        "colab": {
          "base_uri": "https://localhost:8080/"
        },
        "id": "gNQfWv3pOmjP",
        "outputId": "30951f35-5d19-43b2-a5e8-7cb91cca0345"
      },
      "execution_count": null,
      "outputs": [
        {
          "output_type": "stream",
          "name": "stdout",
          "text": [
            "Enumerating objects: 28, done.\n",
            "Counting objects:   3% (1/28)\rCounting objects:   7% (2/28)\rCounting objects:  10% (3/28)\rCounting objects:  14% (4/28)\rCounting objects:  17% (5/28)\rCounting objects:  21% (6/28)\rCounting objects:  25% (7/28)\rCounting objects:  28% (8/28)\rCounting objects:  32% (9/28)\rCounting objects:  35% (10/28)\rCounting objects:  39% (11/28)\rCounting objects:  42% (12/28)\rCounting objects:  46% (13/28)\rCounting objects:  50% (14/28)\rCounting objects:  53% (15/28)\rCounting objects:  57% (16/28)\rCounting objects:  60% (17/28)\rCounting objects:  64% (18/28)\rCounting objects:  67% (19/28)\rCounting objects:  71% (20/28)\rCounting objects:  75% (21/28)\rCounting objects:  78% (22/28)\rCounting objects:  82% (23/28)\rCounting objects:  85% (24/28)\rCounting objects:  89% (25/28)\rCounting objects:  92% (26/28)\rCounting objects:  96% (27/28)\rCounting objects: 100% (28/28)\rCounting objects: 100% (28/28), done.\n",
            "Delta compression using up to 2 threads\n",
            "Compressing objects: 100% (21/21), done.\n",
            "Writing objects: 100% (28/28), 8.42 MiB | 1.88 MiB/s, done.\n",
            "Total 28 (delta 4), reused 0 (delta 0), pack-reused 0\n",
            "remote: Resolving deltas: 100% (4/4), done.\u001b[K\n",
            "To https://github.com/Kuba18/KursAi.git\n",
            " * [new branch]      main -> main\n",
            "Branch 'main' set up to track remote branch 'main' from 'origin'.\n"
          ]
        }
      ]
    },
    {
      "cell_type": "markdown",
      "source": [
        "# Zmienne\n"
      ],
      "metadata": {
        "id": "-YUwD0dlI08H"
      }
    },
    {
      "cell_type": "code",
      "source": [
        "lidzba = 5\n",
        "slowo = 'TEST'\n",
        "print(f\"{lidzba}+ {slowo}\")"
      ],
      "metadata": {
        "colab": {
          "base_uri": "https://localhost:8080/"
        },
        "id": "7ah8warWPjic",
        "outputId": "feea09ba-fec9-487f-af06-6ffabacc32df"
      },
      "execution_count": null,
      "outputs": [
        {
          "output_type": "stream",
          "name": "stdout",
          "text": [
            "5+ TEST\n"
          ]
        }
      ]
    },
    {
      "cell_type": "markdown",
      "source": [
        "# Listy"
      ],
      "metadata": {
        "id": "-fOPxqHjJCoJ"
      }
    },
    {
      "cell_type": "code",
      "source": [
        "test = [5,55,6.54,\"test\",\"wert\"]\n",
        "print(test)\n",
        "print(test[0])\n",
        "test.append(\"test1233\")\n",
        "print(test)\n",
        "for element in range(3):\n",
        "  print(range)"
      ],
      "metadata": {
        "colab": {
          "base_uri": "https://localhost:8080/"
        },
        "id": "-__KmFlSPiIF",
        "outputId": "5e7bc3d7-5aa3-4aad-d916-d480935957f8"
      },
      "execution_count": null,
      "outputs": [
        {
          "output_type": "stream",
          "name": "stdout",
          "text": [
            "[5, 55, 6.54, 'test', 'wert']\n",
            "5\n",
            "[5, 55, 6.54, 'test', 'wert', 'test1233']\n",
            "<class 'range'>\n",
            "<class 'range'>\n",
            "<class 'range'>\n"
          ]
        }
      ]
    },
    {
      "cell_type": "markdown",
      "source": [
        "# Słowniki"
      ],
      "metadata": {
        "id": "n0rCykP9JOQx"
      }
    },
    {
      "cell_type": "code",
      "source": [
        "slownik = {\"kot\":\"cat\", \"pies\" : \"dog\"}\n",
        "#print(slownik[\"kot\"])\n",
        "for key in slownik.keys():\n",
        "  print(key)\n",
        "for vale in slownik.values():\n",
        "    print(vale)"
      ],
      "metadata": {
        "colab": {
          "base_uri": "https://localhost:8080/"
        },
        "id": "0vABwpP4RcUR",
        "outputId": "1dc48204-5205-4099-a616-3a744d77509f"
      },
      "execution_count": null,
      "outputs": [
        {
          "output_type": "stream",
          "name": "stdout",
          "text": [
            "kot\n",
            "pies\n",
            "cat\n",
            "dog\n"
          ]
        }
      ]
    },
    {
      "cell_type": "markdown",
      "source": [
        "# krotki"
      ],
      "metadata": {
        "id": "UYX5R9-sJdJg"
      }
    },
    {
      "cell_type": "code",
      "source": [
        "wospulzedne = (20,21)\n",
        "print(wospulzedne[0])\n",
        "if wospulzedne[0] > 10:\n",
        "    print(\"x>10\")\n",
        "elif wospulzedne[1] > 21:\n",
        "  print(\"y=21\")\n",
        "else:\n",
        "  print(\"x<10\")"
      ],
      "metadata": {
        "colab": {
          "base_uri": "https://localhost:8080/"
        },
        "id": "upIbP6jsSqvZ",
        "outputId": "42fa68e1-41b3-4108-d2cd-8098796e3cb2"
      },
      "execution_count": null,
      "outputs": [
        {
          "output_type": "stream",
          "name": "stdout",
          "text": [
            "20\n",
            "x>10\n"
          ]
        }
      ]
    },
    {
      "cell_type": "markdown",
      "source": [
        "# Funkcje"
      ],
      "metadata": {
        "id": "J3BfgTPCJknj"
      }
    },
    {
      "cell_type": "code",
      "source": [
        "def dodawanie(x,y):\n",
        "  return x + y\n",
        "print(dodawanie(10,20))"
      ],
      "metadata": {
        "colab": {
          "base_uri": "https://localhost:8080/"
        },
        "id": "6O26ZeoTTkTz",
        "outputId": "4ca37132-a877-4ce0-ea06-f1976af8d681"
      },
      "execution_count": 1,
      "outputs": [
        {
          "output_type": "stream",
          "name": "stdout",
          "text": [
            "30\n"
          ]
        }
      ]
    }
  ]
}